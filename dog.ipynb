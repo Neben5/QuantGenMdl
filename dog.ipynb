{
 "cells": [
  {
   "cell_type": "code",
   "execution_count": 180,
   "metadata": {},
   "outputs": [],
   "source": [
    "import numpy as np\n",
    "import math\n",
    "from scipy.stats import unitary_group\n",
    "from skimage.measure import block_reduce\n",
    "from opt_einsum import contract\n",
    "from keras.preprocessing.image import img_to_array\n",
    "from keras.preprocessing.image import array_to_img\n",
    "import torch\n",
    "import time\n",
    "import sys\n",
    "import matplotlib.pyplot as plt\n",
    "from matplotlib import rc\n",
    "from src.QDDPM_torch import DiffusionModel, QDDPM, naturalDistance\n",
    "import src.ImageEncode as ie\n",
    "rc('text', usetex=False)\n",
    "rc('axes', linewidth=3)"
   ]
  },
  {
   "cell_type": "code",
   "execution_count": 181,
   "metadata": {},
   "outputs": [
    {
     "name": "stdout",
     "output_type": "stream",
     "text": [
      "No GPU available. Torch will use CPU.\n"
     ]
    }
   ],
   "source": [
    "if torch.cuda.is_available():\n",
    "    print(f\"GPU: {torch.cuda.get_device_name(0)} is available.\")\n",
    "else:\n",
    "    print(\"No GPU available. Torch will use CPU.\")"
   ]
  },
  {
   "cell_type": "code",
   "execution_count": 182,
   "metadata": {},
   "outputs": [],
   "source": [
    "def generate_training(values: np.array, n_train: int, scale: float, seed=None):\n",
    "    np.random.seed(seed)\n",
    "    n = values.size\n",
    "    noise = abs(np.random.randn(n_train,n))+0j*np.random.randn(n_train,n) \n",
    "    print(noise.shape)\n",
    "    print(values.shape)\n",
    "    states = (noise*scale) + values\n",
    "    states/=np.tile(np.linalg.norm(states, axis=1).reshape(1,n_train), (n,1)).T\n",
    "    return states\n",
    "    "
   ]
  },
  {
   "cell_type": "code",
   "execution_count": 100,
   "metadata": {},
   "outputs": [
    {
     "name": "stdout",
     "output_type": "stream",
     "text": [
      "(400, 4)\n",
      "(4,)\n",
      "[[0.2242293 +0.j 0.78784638+0.j 0.48495391+0.j 0.30633152+0.j]\n",
      " [0.45073058+0.j 0.69604023+0.j 0.30300821+0.j 0.46963387+0.j]\n",
      " [0.14654257+0.j 0.42607463+0.j 0.66245492+0.j 0.5984473 +0.j]\n",
      " ...\n",
      " [0.23294615+0.j 0.3643001 +0.j 0.88555127+0.j 0.16976594+0.j]\n",
      " [0.02288165+0.j 0.52212905+0.j 0.27081777+0.j 0.80840301+0.j]\n",
      " [0.23918569+0.j 0.14816854+0.j 0.51735519+0.j 0.80819546+0.j]]\n",
      "(1+0j)\n"
     ]
    }
   ],
   "source": [
    "a = generate_training(normalized, 400, 2)\n",
    "print(a)\n",
    "\n",
    "print(a[0][0]**2 + a[0][1]**2 + a[0][2]**2 + a[0][3]**2)"
   ]
  },
  {
   "cell_type": "code",
   "execution_count": 206,
   "metadata": {},
   "outputs": [
    {
     "name": "stdout",
     "output_type": "stream",
     "text": [
      "(array([174, 174, 174, 174, 175, 175, 175, 175, 184, 184, 184, 184, 185,\n",
      "       185, 185, 185, 194, 194, 194, 194, 195, 195, 195, 195, 204, 204,\n",
      "       204, 204, 205, 205, 205, 205, 214, 214, 214, 214, 215, 215, 215,\n",
      "       215, 224, 224, 224, 224, 225, 225, 225, 225, 234, 234, 234, 234,\n",
      "       235, 235, 235, 235, 244, 244, 244, 244, 245, 245, 245, 245, 254,\n",
      "       254, 254, 254, 255, 255, 255, 255, 264, 264, 264, 264, 265, 265,\n",
      "       265, 265], dtype=int64), array([0, 1, 2, 3, 0, 1, 2, 3, 0, 1, 2, 3, 0, 1, 2, 3, 0, 1, 2, 3, 0, 1,\n",
      "       2, 3, 0, 1, 2, 3, 0, 1, 2, 3, 0, 1, 2, 3, 0, 1, 2, 3, 0, 1, 2, 3,\n",
      "       0, 1, 2, 3, 0, 1, 2, 3, 0, 1, 2, 3, 0, 1, 2, 3, 0, 1, 2, 3, 0, 1,\n",
      "       2, 3, 0, 1, 2, 3, 0, 1, 2, 3, 0, 1, 2, 3], dtype=int64))\n"
     ]
    },
    {
     "data": {
      "image/png": "[encoded data removed]",
      "text/plain": [
       "<Figure size 640x480 with 1 Axes>"
      ]
     },
     "metadata": {},
     "output_type": "display_data"
    }
   ],
   "source": [
    "from PIL import Image\n",
    "scale = 40\n",
    "img = Image.open('images.png')\n",
    "img_greyscale = img.convert(\"L\")\n",
    "img_resized = img_greyscale.resize((scale, scale))\n",
    "\n",
    "img_array = np.array(img_resized, ndmin = 2)\n",
    "img_resized.save('dog_resized_greyscale.jpg')\n",
    "\n",
    "collapsed_array = np.zeros(img_array.size)\n",
    "\n",
    "for i in range(0, img_array.size):\n",
    "    collapsed_array[i] = img_array[int(i/40)][i%40]\n",
    "\n",
    "\n",
    "\n",
    "test_data = np.zeros((int(img_array.size / 4), 4)) + 1j * np.zeros((int(img_array.size / 4), 4))\n",
    "for i in range(0, int(img_array.size / 4)):\n",
    "    test_data[i] = ie.normalize(collapsed_array[4*i : 4*i+4]) + 1j * np.zeros(4)\n",
    "\n",
    "plt.imshow(img_array, cmap='grey',interpolation = 'nearest')\n",
    "\n",
    "# Find where NaN values are\n",
    "nan_mask = np.isnan(test_data)\n",
    "\n",
    "# Get the indices of the NaN values\n",
    "nan_indices = np.where(nan_mask)\n",
    "\n",
    "print(nan_indices)"
   ]
  },
  {
   "cell_type": "code",
   "execution_count": 184,
   "metadata": {},
   "outputs": [
    {
     "name": "stdout",
     "output_type": "stream",
     "text": [
      "tensor([[0.5000+0.j, 0.5000+0.j, 0.5000+0.j, 0.5000+0.j],\n",
      "        [0.5000+0.j, 0.5000+0.j, 0.5000+0.j, 0.5000+0.j],\n",
      "        [0.5000+0.j, 0.5000+0.j, 0.5000+0.j, 0.5000+0.j],\n",
      "        ...,\n",
      "        [0.5000+0.j, 0.5000+0.j, 0.5000+0.j, 0.5000+0.j],\n",
      "        [0.5000+0.j, 0.5000+0.j, 0.5000+0.j, 0.5000+0.j],\n",
      "        [0.5000+0.j, 0.5000+0.j, 0.5000+0.j, 0.5000+0.j]],\n",
      "       dtype=torch.complex128)\n",
      "1\n",
      "2\n",
      "3\n",
      "4\n",
      "5\n",
      "6\n",
      "7\n",
      "8\n",
      "9\n",
      "10\n",
      "11\n",
      "12\n",
      "13\n",
      "14\n",
      "15\n",
      "16\n",
      "17\n",
      "18\n",
      "19\n",
      "20\n"
     ]
    }
   ],
   "source": [
    "#generate diffusion data\n",
    "n = 2\n",
    "T = 20\n",
    "Ndata = 400\n",
    "\n",
    "diff_hs = np.linspace(0.5, 4., T)\n",
    "\n",
    "model_diff = DiffusionModel(n, T, Ndata)\n",
    "X = torch.from_numpy(test_data)\n",
    "\n",
    "Xout = np.zeros((T+1, Ndata, 2**n), dtype = np.complex64)\n",
    "Xout[0] = X\n",
    "print(X)\n",
    "\n",
    "for t in range(1, T+1):\n",
    "    Xout[t] = model_diff.set_diffusionData_t(t, X, diff_hs[:t], seed = t).numpy()\n",
    "    print(t)\n",
    "\n",
    "np.save(\"states_diff\", Xout)"
   ]
  },
  {
   "cell_type": "code",
   "execution_count": 187,
   "metadata": {},
   "outputs": [
    {
     "name": "stdout",
     "output_type": "stream",
     "text": [
      "[[[ 0.5       +0.00000000e+00j  0.5       +0.00000000e+00j\n",
      "    0.5       +0.00000000e+00j  0.5       +0.00000000e+00j]\n",
      "  [ 0.5       +0.00000000e+00j  0.5       +0.00000000e+00j\n",
      "    0.5       +0.00000000e+00j  0.5       +0.00000000e+00j]\n",
      "  [ 0.5       +0.00000000e+00j  0.5       +0.00000000e+00j\n",
      "    0.5       +0.00000000e+00j  0.5       +0.00000000e+00j]\n",
      "  ...\n",
      "  [ 0.5       +0.00000000e+00j  0.5       +0.00000000e+00j\n",
      "    0.5       +0.00000000e+00j  0.5       +0.00000000e+00j]\n",
      "  [ 0.5       +0.00000000e+00j  0.5       +0.00000000e+00j\n",
      "    0.5       +0.00000000e+00j  0.5       +0.00000000e+00j]\n",
      "  [ 0.5       +0.00000000e+00j  0.5       +0.00000000e+00j\n",
      "    0.5       +0.00000000e+00j  0.5       +0.00000000e+00j]]\n",
      "\n",
      " [[ 0.45739585-9.02355462e-03j  0.46795064+1.43763684e-02j\n",
      "    0.52751553+2.98622474e-02j  0.5399616 -2.82893814e-02j]\n",
      "  [ 0.46113116-2.76158303e-02j  0.521137  +1.14638180e-01j\n",
      "    0.45828184-7.05997720e-02j  0.5347051 -3.08782440e-02j]\n",
      "  [ 0.49260247-2.67638685e-03j  0.42766663+1.29249291e-02j\n",
      "    0.5718527 +1.77752636e-02j  0.4948297 -4.56300490e-02j]\n",
      "  ...\n",
      "  [ 0.49082658+6.88016647e-03j  0.5956405 -2.64550596e-02j\n",
      "    0.39848483+6.51293173e-02j  0.48903227-3.70115563e-02j]\n",
      "  [ 0.43106034-2.96891443e-02j  0.46541074+5.32412417e-02j\n",
      "    0.5222303 -1.62887257e-02j  0.5664555 -1.47172133e-03j]\n",
      "  [ 0.5702789 -8.34015235e-02j  0.49503264+7.49004111e-02j\n",
      "    0.4872037 -1.95045713e-02j  0.42257628+2.89871693e-02j]]\n",
      "\n",
      " [[ 0.47329357-5.01241256e-03j  0.49807686-4.83505279e-02j\n",
      "    0.46481833+1.81045726e-01j  0.51898426-8.58583525e-02j]\n",
      "  [ 0.41355643-1.44620519e-02j  0.59107727+6.58528507e-02j\n",
      "    0.38840643-1.28871435e-02j  0.54796004-1.54166386e-01j]\n",
      "  [ 0.4042115 -4.54039276e-02j  0.41307226+2.00319756e-03j\n",
      "    0.5630494 +8.90683904e-02j  0.5753924 -8.87963176e-02j]\n",
      "  ...\n",
      "  [ 0.5609125 +4.81030308e-02j  0.48934203-6.12976728e-05j\n",
      "    0.49191844+1.06402189e-01j  0.4196326 -1.19210452e-01j]\n",
      "  [ 0.44894958+7.23562960e-04j  0.6708043 -3.72332260e-02j\n",
      "    0.31113708+1.11776359e-01j  0.48348302-6.34278208e-02j]\n",
      "  [ 0.53329885+3.68692018e-02j  0.47822842-1.45119643e-02j\n",
      "    0.50749624+1.04637094e-01j  0.44677514-1.31188959e-01j]]\n",
      "\n",
      " ...\n",
      "\n",
      " [[-0.34698448+1.82733774e-01j  0.23866443-2.12179527e-01j\n",
      "    0.8290602 +1.80950105e-01j  0.13476738-7.73496702e-02j]\n",
      "  [ 0.2179843 -3.12623322e-01j  0.31811804+2.13515103e-01j\n",
      "    0.55173445-3.20374399e-01j  0.12098937+5.35043955e-01j]\n",
      "  [-0.30822024+1.43837988e-01j  0.23057851+1.49472713e-01j\n",
      "    0.4667612 -5.45795441e-01j -0.03072968-5.40461719e-01j]\n",
      "  ...\n",
      "  [ 0.15077725-6.10565543e-01j  0.41244328-1.66638285e-01j\n",
      "   -0.24018075-4.12180364e-01j -0.42297125-1.06902719e-02j]\n",
      "  [-0.36067405-1.63315594e-01j  0.46284258+1.39662355e-01j\n",
      "    0.21636999+4.04301845e-02j  0.6741837 -3.26403677e-01j]\n",
      "  [ 0.33328694-1.05826765e-01j  0.53798693-3.52586180e-01j\n",
      "    0.27813393-4.62320954e-01j  0.41548806+1.56598389e-02j]]\n",
      "\n",
      " [[-0.37550756-6.30563319e-01j  0.03651377-5.21741271e-01j\n",
      "   -0.05176592-4.27531242e-01j  0.04873127+6.53535128e-04j]\n",
      "  [-0.34524903-8.29951391e-02j  0.19519505-5.42240798e-01j\n",
      "   -0.3986427 +4.94652018e-02j  0.60547596+1.17581584e-01j]\n",
      "  [ 0.00269681+3.12260896e-01j -0.58441305-3.97329032e-03j\n",
      "   -0.25248703+4.28298026e-01j  0.4757238 +2.95683444e-01j]\n",
      "  ...\n",
      "  [ 0.2582567 +3.62355053e-01j  0.00574012-4.83439744e-01j\n",
      "   -0.31969795+5.34845740e-02j  0.03329067+6.79764152e-01j]\n",
      "  [ 0.3487407 -3.39308023e-01j -0.29071462+4.39629376e-01j\n",
      "    0.35323668-3.79851311e-01j  0.32583138-3.32011938e-01j]\n",
      "  [-0.13163932-7.08625495e-01j  0.1451688 +4.33613002e-01j\n",
      "   -0.10237642-2.54523396e-01j -0.3441317 +2.78812468e-01j]]\n",
      "\n",
      " [[ 0.35001522+3.43478650e-01j  0.36482167+4.27521765e-01j\n",
      "    0.5092566 +1.25174180e-01j -0.3347884 +2.37796754e-01j]\n",
      "  [-0.01302218-5.15978813e-01j  0.8181352 +1.51414901e-01j\n",
      "   -0.11143142-4.37437519e-02j -0.16329388+1.81287564e-02j]\n",
      "  [-0.13289095+2.95770794e-01j  0.21294464+3.20033401e-01j\n",
      "   -0.09237663-5.87458849e-01j -0.5036725 -3.73852223e-01j]\n",
      "  ...\n",
      "  [ 0.70951724-3.90945435e-01j -0.14654592-7.02134296e-02j\n",
      "    0.08581984-1.61660373e-01j  0.3011977 -4.39456105e-01j]\n",
      "  [ 0.5334017 +2.17311144e-01j  0.01876885-8.22150782e-02j\n",
      "   -0.7056794 -1.43880159e-01j  0.301894  -2.26545036e-01j]\n",
      "  [-0.15955153+1.09734200e-01j -0.5705551 +2.37210169e-01j\n",
      "   -0.02929542+1.56779289e-01j -0.47214508+5.76489985e-01j]]]\n"
     ]
    }
   ],
   "source": [
    "print(Xout)"
   ]
  },
  {
   "cell_type": "code",
   "execution_count": 203,
   "metadata": {},
   "outputs": [
    {
     "data": {
      "text/plain": [
       "True"
      ]
     },
     "execution_count": 203,
     "metadata": {},
     "output_type": "execute_result"
    }
   ],
   "source": [
    "states_diff = np.load('states_diff.npy')\n",
    "\n",
    "fidelity = np.zeros((T + 1, Ndata))\n",
    "for i in range(0, T + 1):\n",
    "    for j in range(0, Ndata):\n",
    "        fidelity[i][j] = np.abs(np.vdot(states_diff[i][j], states_diff[0][j])) ** 2\n",
    "\n",
    "fidelity_mean = np.mean(fidelity, axis = 1)"
   ]
  },
  {
   "cell_type": "code",
   "execution_count": 198,
   "metadata": {},
   "outputs": [
    {
     "data": {
      "image/png": "[encoded data removed]",
      "text/plain": [
       "<Figure size 600x400 with 1 Axes>"
      ]
     },
     "metadata": {},
     "output_type": "display_data"
    }
   ],
   "source": [
    "# visualize the fidelity decay in the diffusion process\n",
    "n = 2\n",
    "T = 20\n",
    "Ndata = 400\n",
    "states_diff = np.load('states_diff.npy')\n",
    "\n",
    "fig, ax = plt.subplots(figsize=(6, 4))\n",
    "indices = np.random.permutation(Ndata)\n",
    "\n",
    "ax.plot(range(T+1), fidelity_mean, 'o--', markersize=8, lw=2, c='r')\n",
    "ax.plot(range(T+1), 0.25*np.ones(T+1), '--', lw=2, c='gold')\n",
    "ax.set_ylabel(r'$F_0$', fontsize=30)\n",
    "ax.set_xlabel(r'$t$', fontsize=30)\n",
    "ax.set_ylim(0,1)\n",
    "ax.tick_params(direction='in', length=10, width=3, top='on', right='on', labelsize=30)"
   ]
  },
  {
   "cell_type": "code",
   "execution_count": 199,
   "metadata": {},
   "outputs": [],
   "source": [
    "def Training_t(model, t, inputs_T, params_tot, Ndata, epochs):\n",
    "    '''\n",
    "    the trianing for the backward PQC at step t\n",
    "    input_tplus1: the output from step t+1, as the role of input at step t\n",
    "    Args:\n",
    "    model: the QDDPM model\n",
    "    t: the diffusion step\n",
    "    inputs_T: the input data at step t=T\n",
    "    params_tot: collection of PQC parameters before step t\n",
    "    Ndata: number of samples in dataset\n",
    "    epochs: the number of iterations\n",
    "    '''\n",
    "    input_tplus1 = model.prepareInput_t(inputs_T, params_tot, t, Ndata) # prepare input\n",
    "    states_diff = model.states_diff\n",
    "    loss_hist = [] # record of training history\n",
    "\n",
    "    # initialize parameters\n",
    "    np.random.seed()\n",
    "    params_t = torch.tensor(np.random.normal(size=2 * model.n_tot * model.L), requires_grad=True)\n",
    "    # set optimizer and learning rate decay\n",
    "    optimizer = torch.optim.Adam([params_t], lr=0.0005)\n",
    "    \n",
    "    t0 = time.time()\n",
    "    for step in range(epochs):\n",
    "        indices = np.random.choice(states_diff.shape[1], size=Ndata, replace=False)\n",
    "        true_data = states_diff[t, indices]\n",
    "\n",
    "        output_t = model.backwardOutput_t(input_tplus1, params_t)\n",
    "        loss = naturalDistance(output_t, true_data)\n",
    "        optimizer.zero_grad()\n",
    "        loss.backward()\n",
    "        optimizer.step()\n",
    "\n",
    "        loss_hist.append(loss) # record the current loss\n",
    "        \n",
    "        if step%100 == 0:\n",
    "            loss_value = loss_hist[-1]\n",
    "            print(\"Step %s, loss: %s, time elapsed: %s seconds\"%(step, loss_value, time.time() - t0))\n",
    "\n",
    "    return params_t, torch.stack(loss_hist)"
   ]
  },
  {
   "cell_type": "code",
   "execution_count": 200,
   "metadata": {},
   "outputs": [
    {
     "name": "stdout",
     "output_type": "stream",
     "text": [
      "Step 0, loss: tensor(nan, grad_fn=<SubBackward0>), time elapsed: 0.01694321632385254 seconds\n"
     ]
    },
    {
     "ename": "RuntimeError",
     "evalue": "probability tensor contains either `inf`, `nan` or element < 0",
     "output_type": "error",
     "traceback": [
      "\u001b[1;31m---------------------------------------------------------------------------\u001b[0m",
      "\u001b[1;31mRuntimeError\u001b[0m                              Traceback (most recent call last)",
      "Cell \u001b[1;32mIn[200], line 27\u001b[0m\n\u001b[0;32m     24\u001b[0m     \u001b[38;5;28mprint\u001b[39m(tt)\n\u001b[0;32m     25\u001b[0m     params_tot[tt] \u001b[38;5;241m=\u001b[39m np\u001b[38;5;241m.\u001b[39mload(\u001b[38;5;124m'\u001b[39m\u001b[38;5;124mparams_t\u001b[39m\u001b[38;5;132;01m%d\u001b[39;00m\u001b[38;5;124m.npy\u001b[39m\u001b[38;5;124m'\u001b[39m\u001b[38;5;241m%\u001b[39mtt)\n\u001b[1;32m---> 27\u001b[0m params, loss_hist \u001b[38;5;241m=\u001b[39m \u001b[43mTraining_t\u001b[49m\u001b[43m(\u001b[49m\u001b[43mmodel\u001b[49m\u001b[43m,\u001b[49m\u001b[43m \u001b[49m\u001b[43mt\u001b[49m\u001b[43m,\u001b[49m\u001b[43m \u001b[49m\u001b[43minputs_T\u001b[49m\u001b[43m,\u001b[49m\u001b[43m \u001b[49m\u001b[43mparams_tot\u001b[49m\u001b[43m,\u001b[49m\u001b[43m \u001b[49m\u001b[43mNdata\u001b[49m\u001b[43m,\u001b[49m\u001b[43m \u001b[49m\u001b[43mepochs\u001b[49m\u001b[43m)\u001b[49m\n\u001b[0;32m     29\u001b[0m np\u001b[38;5;241m.\u001b[39msave(\u001b[38;5;124m'\u001b[39m\u001b[38;5;124mparams_t\u001b[39m\u001b[38;5;132;01m%d\u001b[39;00m\u001b[38;5;124m'\u001b[39m\u001b[38;5;241m%\u001b[39mt, params\u001b[38;5;241m.\u001b[39mdetach()\u001b[38;5;241m.\u001b[39mnumpy())\n\u001b[0;32m     30\u001b[0m np\u001b[38;5;241m.\u001b[39msave(\u001b[38;5;124m'\u001b[39m\u001b[38;5;124mloss_t\u001b[39m\u001b[38;5;132;01m%d\u001b[39;00m\u001b[38;5;124m'\u001b[39m\u001b[38;5;241m%\u001b[39mt, loss_hist\u001b[38;5;241m.\u001b[39mdetach()\u001b[38;5;241m.\u001b[39mnumpy())\n",
      "Cell \u001b[1;32mIn[199], line 28\u001b[0m, in \u001b[0;36mTraining_t\u001b[1;34m(model, t, inputs_T, params_tot, Ndata, epochs)\u001b[0m\n\u001b[0;32m     25\u001b[0m indices \u001b[38;5;241m=\u001b[39m np\u001b[38;5;241m.\u001b[39mrandom\u001b[38;5;241m.\u001b[39mchoice(states_diff\u001b[38;5;241m.\u001b[39mshape[\u001b[38;5;241m1\u001b[39m], size\u001b[38;5;241m=\u001b[39mNdata, replace\u001b[38;5;241m=\u001b[39m\u001b[38;5;28;01mFalse\u001b[39;00m)\n\u001b[0;32m     26\u001b[0m true_data \u001b[38;5;241m=\u001b[39m states_diff[t, indices]\n\u001b[1;32m---> 28\u001b[0m output_t \u001b[38;5;241m=\u001b[39m \u001b[43mmodel\u001b[49m\u001b[38;5;241;43m.\u001b[39;49m\u001b[43mbackwardOutput_t\u001b[49m\u001b[43m(\u001b[49m\u001b[43minput_tplus1\u001b[49m\u001b[43m,\u001b[49m\u001b[43m \u001b[49m\u001b[43mparams_t\u001b[49m\u001b[43m)\u001b[49m\n\u001b[0;32m     29\u001b[0m loss \u001b[38;5;241m=\u001b[39m naturalDistance(output_t, true_data)\n\u001b[0;32m     30\u001b[0m optimizer\u001b[38;5;241m.\u001b[39mzero_grad()\n",
      "File \u001b[1;32mc:\\Users\\George Zia\\Desktop\\Research_Workspace\\QuantGenMdl\\src\\QDDPM_torch.py:157\u001b[0m, in \u001b[0;36mQDDPM.backwardOutput_t\u001b[1;34m(self, inputs, params)\u001b[0m\n\u001b[0;32m    155\u001b[0m output_full \u001b[38;5;241m=\u001b[39m \u001b[38;5;28mself\u001b[39m\u001b[38;5;241m.\u001b[39mbackCircuit_vmap(inputs, params) \n\u001b[0;32m    156\u001b[0m \u001b[38;5;66;03m# perform measurement\u001b[39;00m\n\u001b[1;32m--> 157\u001b[0m output_t \u001b[38;5;241m=\u001b[39m \u001b[38;5;28;43mself\u001b[39;49m\u001b[38;5;241;43m.\u001b[39;49m\u001b[43mrandomMeasure\u001b[49m\u001b[43m(\u001b[49m\u001b[43moutput_full\u001b[49m\u001b[43m)\u001b[49m\n\u001b[0;32m    158\u001b[0m \u001b[38;5;28;01mreturn\u001b[39;00m output_t\n",
      "File \u001b[1;32mc:\\Users\\George Zia\\Desktop\\Research_Workspace\\QuantGenMdl\\src\\QDDPM_torch.py:142\u001b[0m, in \u001b[0;36mQDDPM.randomMeasure\u001b[1;34m(self, inputs)\u001b[0m\n\u001b[0;32m    134\u001b[0m \u001b[38;5;250m\u001b[39m\u001b[38;5;124;03m'''\u001b[39;00m\n\u001b[0;32m    135\u001b[0m \u001b[38;5;124;03mGiven the inputs on both data & ancilla qubits before measurmenets,\u001b[39;00m\n\u001b[0;32m    136\u001b[0m \u001b[38;5;124;03mcalculate the post-measurement state.\u001b[39;00m\n\u001b[1;32m   (...)\u001b[0m\n\u001b[0;32m    139\u001b[0m \u001b[38;5;124;03minputs: states to be measured, first na qubit is ancilla\u001b[39;00m\n\u001b[0;32m    140\u001b[0m \u001b[38;5;124;03m'''\u001b[39;00m\n\u001b[0;32m    141\u001b[0m m_probs \u001b[38;5;241m=\u001b[39m (torch\u001b[38;5;241m.\u001b[39mabs(inputs\u001b[38;5;241m.\u001b[39mreshape(inputs\u001b[38;5;241m.\u001b[39mshape[\u001b[38;5;241m0\u001b[39m], \u001b[38;5;241m2\u001b[39m\u001b[38;5;241m*\u001b[39m\u001b[38;5;241m*\u001b[39m\u001b[38;5;28mself\u001b[39m\u001b[38;5;241m.\u001b[39mna, \u001b[38;5;241m2\u001b[39m\u001b[38;5;241m*\u001b[39m\u001b[38;5;241m*\u001b[39m\u001b[38;5;28mself\u001b[39m\u001b[38;5;241m.\u001b[39mn))\u001b[38;5;241m*\u001b[39m\u001b[38;5;241m*\u001b[39m\u001b[38;5;241m2\u001b[39m)\u001b[38;5;241m.\u001b[39msum(dim\u001b[38;5;241m=\u001b[39m\u001b[38;5;241m2\u001b[39m)\n\u001b[1;32m--> 142\u001b[0m m_res \u001b[38;5;241m=\u001b[39m \u001b[43mtorch\u001b[49m\u001b[38;5;241;43m.\u001b[39;49m\u001b[43mmultinomial\u001b[49m\u001b[43m(\u001b[49m\u001b[43mm_probs\u001b[49m\u001b[43m,\u001b[49m\u001b[43m \u001b[49m\u001b[43mnum_samples\u001b[49m\u001b[38;5;241;43m=\u001b[39;49m\u001b[38;5;241;43m1\u001b[39;49m\u001b[43m)\u001b[49m\u001b[38;5;241m.\u001b[39msqueeze() \u001b[38;5;66;03m# measurment results\u001b[39;00m\n\u001b[0;32m    143\u001b[0m indices \u001b[38;5;241m=\u001b[39m \u001b[38;5;241m2\u001b[39m\u001b[38;5;241m*\u001b[39m\u001b[38;5;241m*\u001b[39m\u001b[38;5;28mself\u001b[39m\u001b[38;5;241m.\u001b[39mn \u001b[38;5;241m*\u001b[39m m_res\u001b[38;5;241m.\u001b[39mview(\u001b[38;5;241m-\u001b[39m\u001b[38;5;241m1\u001b[39m, \u001b[38;5;241m1\u001b[39m) \u001b[38;5;241m+\u001b[39m torch\u001b[38;5;241m.\u001b[39marange(\u001b[38;5;241m2\u001b[39m\u001b[38;5;241m*\u001b[39m\u001b[38;5;241m*\u001b[39m\u001b[38;5;28mself\u001b[39m\u001b[38;5;241m.\u001b[39mn)\n\u001b[0;32m    144\u001b[0m post_state \u001b[38;5;241m=\u001b[39m torch\u001b[38;5;241m.\u001b[39mgather(inputs, \u001b[38;5;241m1\u001b[39m, indices)\n",
      "\u001b[1;31mRuntimeError\u001b[0m: probability tensor contains either `inf`, `nan` or element < 0"
     ]
    }
   ],
   "source": [
    "#train on diffusion data\n",
    "n, na = 2, 1 # number of data and ancilla qubits\n",
    "T = 20 # number of diffusion steps\n",
    "L = 6 # layer of backward PQC\n",
    "Ndata = 400 # number of data in the training data set\n",
    "epochs = 2001 # number of training epochs\n",
    "\n",
    "#gen random samples at t = T\n",
    "diffModel = DiffusionModel(n, T, Ndata)\n",
    "inputs_T = diffModel.HaarSampleGeneration(Ndata, seed = 22)\n",
    "\n",
    "#load diffusion process\n",
    "states_diff = np.load('states_diff.npy')\n",
    "\n",
    "model = QDDPM(n=n, na=na, T=T, L=L)\n",
    "model.set_diffusionSet(states_diff)\n",
    "\n",
    "params_total = []\n",
    "loss_hist_total = []\n",
    "\n",
    "for t in range(T - 1, -1, -1):\n",
    "    params_tot = np.zeros((T, 2*(n+na)*L))\n",
    "    for tt in range(t+1, 20):\n",
    "        print(tt)\n",
    "        params_tot[tt] = np.load('params_t%d.npy'%tt)\n",
    "    \n",
    "    params, loss_hist = Training_t(model, t, inputs_T, params_tot, Ndata, epochs)\n",
    "\n",
    "    np.save('params_t%d'%t, params.detach().numpy())\n",
    "    np.save('loss_t%d'%t, loss_hist.detach().numpy())\n",
    "    \n",
    "    #params_total = np.append(params_total, params, axis = 1)\n",
    "    #loss_hist_total = np.append(loss_hist_total, loss_hist, axis = 1)\n"
   ]
  },
  {
   "cell_type": "code",
   "execution_count": 108,
   "metadata": {},
   "outputs": [],
   "source": [
    "n, na = 2, 1\n",
    "T = 20\n",
    "L = 6\n",
    "Ndata = 400\n",
    "epochs = 2001\n",
    "\n",
    "params_tot = np.zeros((T, 2*(n+na)*L))\n",
    "loss_tot = np.zeros((T, epochs))\n",
    "f0_tot = np.zeros((T, epochs))\n",
    "\n",
    "for t in range(T):\n",
    "    params_tot[t] = np.load('params_t%d.npy'%t)\n",
    "    loss_tot[t] = np.load('loss_t%d.npy'%t)\n",
    "    \n",
    "\n",
    "np.save(\"params_total\", params_tot)\n",
    "np.save(\"loss_tot\", loss_tot)                            "
   ]
  },
  {
   "cell_type": "code",
   "execution_count": 174,
   "metadata": {},
   "outputs": [],
   "source": [
    "#use model to predict what original image was\n",
    "test_data_T20 = torch.tensor(Xout[20], dtype = torch.complex64)\n",
    "\n",
    "n, na = 2, 1\n",
    "T = 20\n",
    "L = 6\n",
    "Ndata = 400\n",
    "\n",
    "diffModel = DiffusionModel(n, T, Ndata)\n",
    "\n",
    "params_tot = np.load('params_total.npy')\n",
    "\n",
    "model = QDDPM(n=n, na=na, T=T, L=L)\n",
    "\n",
    "data_te = model.backDataGeneration(test_data_T20, params_tot, Ndata)[:, :, :2**n].numpy()\n",
    "\n",
    "np.save(\"test_backwardsgen\", data_te)"
   ]
  },
  {
   "cell_type": "code",
   "execution_count": 175,
   "metadata": {},
   "outputs": [
    {
     "name": "stdout",
     "output_type": "stream",
     "text": [
      "[[-0.03893866+0.29942936j  0.5238452 -0.09522967j -0.45174214+0.62380683j\n",
      "  -0.13201904-0.12127586j]\n",
      " [ 0.5235849 -0.19254854j  0.00763049+0.0602373j   0.26377743+0.580449j\n",
      "  -0.03514398-0.52665216j]\n",
      " [ 0.3550071 -0.01686153j  0.21404457-0.3024806j   0.4907567 -0.53825945j\n",
      "  -0.2695129 +0.36492968j]\n",
      " ...\n",
      " [ 0.47715595+0.2524841j  -0.12119724+0.4844882j   0.16146074-0.1377298j\n",
      "  -0.39973032-0.5043139j ]\n",
      " [-0.09568009+0.05633598j  0.3462438 -0.6704373j   0.09490029-0.09644374j\n",
      "   0.5894566 +0.22920303j]\n",
      " [ 0.16245832-0.4360507j   0.10294865+0.18537325j  0.01657556-0.82167965j\n",
      "   0.01395482+0.2507577j ]]\n"
     ]
    }
   ],
   "source": [
    "backwards_gen = np.load('test_backwardsgen.npy')\n",
    "print(backwards_gen[20])"
   ]
  },
  {
   "cell_type": "code",
   "execution_count": 178,
   "metadata": {},
   "outputs": [
    {
     "name": "stdout",
     "output_type": "stream",
     "text": [
      "[[-0.03893866+0.29942936j  0.5238452 -0.09522967j -0.45174214+0.62380683j\n",
      "  -0.13201904-0.12127586j]\n",
      " [ 0.5235849 -0.19254854j  0.00763049+0.0602373j   0.26377743+0.580449j\n",
      "  -0.03514398-0.52665216j]\n",
      " [ 0.3550071 -0.01686153j  0.21404457-0.3024806j   0.4907567 -0.53825945j\n",
      "  -0.2695129 +0.36492968j]\n",
      " ...\n",
      " [ 0.47715595+0.2524841j  -0.12119724+0.4844882j   0.16146074-0.1377298j\n",
      "  -0.39973032-0.5043139j ]\n",
      " [-0.09568009+0.05633598j  0.3462438 -0.6704373j   0.09490029-0.09644374j\n",
      "   0.5894566 +0.22920303j]\n",
      " [ 0.16245832-0.4360507j   0.10294865+0.18537325j  0.01657556-0.82167965j\n",
      "   0.01395482+0.2507577j ]]\n"
     ]
    }
   ],
   "source": [
    "backwards_gen = np.load('test_backwardsgen.npy')\n",
    "\n",
    "for z in range(0, 21):\n",
    "    final_output_flattened = backwards_gen[0]\n",
    "    final_output_flattened = np.abs(final_output_flattened) * 255\n",
    "    final_output_flattened = final_output_flattened.flatten()\n",
    "\n",
    "    dim = int((final_output_flattened.size) ** 0.5)\n",
    "\n",
    "    final_output_nxn = np.zeros((dim, dim))\n",
    "\n",
    "    for i in range(0, dim):\n",
    "        for j in range(0, dim):\n",
    "            final_output_nxn[i][j] = round(final_output_flattened[(i*40) + j])\n",
    "\n"
   ]
  },
  {
   "cell_type": "code",
   "execution_count": 179,
   "metadata": {},
   "outputs": [
    {
     "name": "stdout",
     "output_type": "stream",
     "text": [
      "[[ 69. 138. 150. ... 127. 134. 153.]\n",
      " [101. 119. 156. ... 120.  81. 166.]\n",
      " [222. 109.  44. ... 120. 111. 158.]\n",
      " ...\n",
      " [120. 144. 127. ... 127. 134. 140.]\n",
      " [139. 118. 143. ... 104. 175. 127.]\n",
      " [132. 106. 104. ... 127. 138. 124.]]\n"
     ]
    },
    {
     "data": {
      "text/plain": [
       "<matplotlib.image.AxesImage at 0x1a189966c30>"
      ]
     },
     "execution_count": 179,
     "metadata": {},
     "output_type": "execute_result"
    },
    {
     "data": {
      "image/png": "[encoded data removed]",
      "text/plain": [
       "<Figure size 640x480 with 1 Axes>"
      ]
     },
     "metadata": {},
     "output_type": "display_data"
    }
   ],
   "source": [
    "print(final_output_nxn)\n",
    "plt.imshow(final_output_nxn, cmap = 'grey', interpolation = 'nearest')"
   ]
  },
  {
   "cell_type": "code",
   "execution_count": 20,
   "metadata": {},
   "outputs": [
    {
     "name": "stdout",
     "output_type": "stream",
     "text": [
      "[[0.   0.33]\n",
      " [0.66 0.99]]\n"
     ]
    },
    {
     "data": {
      "image/png": "[encoded data removed]",
      "text/plain": [
       "<Figure size 640x480 with 1 Axes>"
      ]
     },
     "metadata": {},
     "output_type": "display_data"
    },
    {
     "name": "stdout",
     "output_type": "stream",
     "text": [
      "[0.        +0.j 0.26726124+0.j 0.53452248+0.j 0.80178373+0.j]\n"
     ]
    }
   ],
   "source": [
    "values = np.array([pixelValues[0:2], pixelValues[2:4]])\n",
    "print(values)\n",
    "normalized = ie.normalize(values)\n",
    "plt.imshow(values, cmap='grey', interpolation='nearest')\n",
    "plt.show()\n",
    "normalized = normalized.ravel() + 0j*np.zeros(4)\n",
    "print(normalized)\n"
   ]
  }
 ],
 "metadata": {
  "kernelspec": {
   "display_name": "Python 3",
   "language": "python",
   "name": "python3"
  },
  "language_info": {
   "codemirror_mode": {
    "name": "ipython",
    "version": 3
   },
   "file_extension": ".py",
   "mimetype": "text/x-python",
   "name": "python",
   "nbconvert_exporter": "python",
   "pygments_lexer": "ipython3",
   "version": "3.12.7"
  }
 },
 "nbformat": 4,
 "nbformat_minor": 4
}
