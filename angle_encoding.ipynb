{
 "cells": [
  {
   "cell_type": "code",
   "execution_count": 1,
   "metadata": {},
   "outputs": [
    {
     "name": "stderr",
     "output_type": "stream",
     "text": [
      "Please first ``pip install -U qiskit`` to enable related functionality in translation module\n"
     ]
    }
   ],
   "source": [
    "import numpy as np\n",
    "import math\n",
    "from scipy.stats import unitary_group\n",
    "from skimage.measure import block_reduce\n",
    "from opt_einsum import contract\n",
    "from keras.preprocessing.image import img_to_array\n",
    "from keras.preprocessing.image import array_to_img\n",
    "import torch\n",
    "import time\n",
    "import sys\n",
    "import matplotlib.pyplot as plt\n",
    "from matplotlib import rc\n",
    "from src.QDDPM_torch import DiffusionModel, QDDPM, naturalDistance\n",
    "#import src.ImageEncode as ie\n",
    "rc('text', usetex=False)\n",
    "rc('axes', linewidth=3)"
   ]
  },
  {
   "cell_type": "code",
   "execution_count": 10,
   "metadata": {},
   "outputs": [],
   "source": [
    "def angle_encode(image: np.array):\n",
    "    Npixels = np.size(image)\n",
    "\n",
    "    image = image.flatten()\n",
    "\n",
    "    #if ((Npixels & (Npixels - 1)) == 0 and Npixels != 0):\n",
    "    #    print(\"Pixel number is not a power of 2\")\n",
    "    #    return -1\n",
    "\n",
    "    states = (1 + 1j) * np.zeros(2 ** Npixels)\n",
    "    scale_val = (0.5 * math.pi / np.max(image))\n",
    "    image = image * scale_val\n",
    "\n",
    "    for i in range(0, 2 ** Npixels):\n",
    "        states[i] = 1 + 0j\n",
    "        temp = i\n",
    "        for j in range(0, Npixels):\n",
    "            if (temp % 2):\n",
    "                states[i] *= math.cos(image[Npixels - 1 - j])\n",
    "            else:\n",
    "                states[i] *= math.sin(image[Npixels - 1 - j])\n",
    "            temp = int(temp / 2)\n",
    "    \n",
    "    return scale_val, states"
   ]
  },
  {
   "cell_type": "code",
   "execution_count": 15,
   "metadata": {},
   "outputs": [
    {
     "name": "stdout",
     "output_type": "stream",
     "text": [
      "[1.00000000e+00+0.j 6.12323400e-17+0.j 6.12323400e-17+0.j\n",
      " 3.74939946e-33+0.j]\n"
     ]
    }
   ],
   "source": [
    "#test angle_encode\n",
    "temp_test = np.array([1, 1])\n",
    "#plt.imshow(temp_test, cmap='grey',interpolation = 'nearest')\n",
    "scale_val, states = angle_encode(temp_test)\n",
    "print(states)"
   ]
  }
 ],
 "metadata": {
  "kernelspec": {
   "display_name": "Python 3",
   "language": "python",
   "name": "python3"
  },
  "language_info": {
   "codemirror_mode": {
    "name": "ipython",
    "version": 3
   },
   "file_extension": ".py",
   "mimetype": "text/x-python",
   "name": "python",
   "nbconvert_exporter": "python",
   "pygments_lexer": "ipython3",
   "version": "3.12.7"
  }
 },
 "nbformat": 4,
 "nbformat_minor": 2
}
