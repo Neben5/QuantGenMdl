{
 "cells": [
  {
   "cell_type": "code",
   "execution_count": 2,
   "metadata": {},
   "outputs": [
    {
     "name": "stderr",
     "output_type": "stream",
     "text": [
      "Please first ``pip install -U qiskit`` to enable related functionality in translation module\n"
     ]
    }
   ],
   "source": [
    "import numpy as np\n",
    "import math\n",
    "from scipy.stats import unitary_group\n",
    "from skimage.measure import block_reduce\n",
    "from opt_einsum import contract\n",
    "from keras.preprocessing.image import img_to_array\n",
    "from keras.preprocessing.image import array_to_img\n",
    "import torch\n",
    "import time\n",
    "import sys\n",
    "import matplotlib.pyplot as plt\n",
    "from matplotlib import rc\n",
    "from src.QDDPM_torch import DiffusionModel, QDDPM, naturalDistance\n",
    "#import src.ImageEncode as ie\n",
    "rc('text', usetex=False)\n",
    "rc('axes', linewidth=3)"
   ]
  },
  {
   "cell_type": "code",
   "execution_count": 6,
   "metadata": {},
   "outputs": [],
   "source": [
    "#note: maximum allowed value in image is 1\n",
    "def angle_encode(image: np.array):\n",
    "    Npixels = np.size(image)\n",
    "\n",
    "    image = image.flatten()\n",
    "\n",
    "    #if ((Npixels & (Npixels - 1)) == 0 and Npixels != 0):\n",
    "    #    print(\"Pixel number is not a power of 2\")\n",
    "    #    return -1\n",
    "    states = (1 + 1j) * np.zeros(2 ** Npixels)\n",
    "    #for testing encode from 0 - pi/2 \n",
    "    scale_val = (0.5 * math.pi) #/ np.max(image))\n",
    "    image = image * scale_val\n",
    "\n",
    "    for i in range(0, 2 ** Npixels):\n",
    "        states[i] = 1 + 0j\n",
    "        temp = i\n",
    "        for j in range(0, Npixels):\n",
    "            if (temp % 2):\n",
    "                states[i] *= math.sin(image[Npixels - 1 - j])\n",
    "            else:\n",
    "                states[i] *= math.cos(image[Npixels - 1 - j])\n",
    "            temp = int(temp / 2)\n",
    "    \n",
    "    return scale_val, states"
   ]
  },
  {
   "cell_type": "code",
   "execution_count": null,
   "metadata": {},
   "outputs": [],
   "source": [
    "#for only 0-pi/2\n",
    "def angle_decode(states: np.array, scale_val: float):\n",
    "    Npixels = int(math.log2(np.size(states)))\n",
    "    image_dim = int(Npixels ** 0.5)\n",
    "    num_states = np.size(states)\n",
    "\n",
    "    #if(image_dim != (Npixels ** 0.5)):\n",
    "    #    print(\"image is not n by n pixels\")\n",
    "    #    return -1\n",
    "\n",
    "    image_flattened = np.array([])\n",
    "    image_nxn = np.zeros((image_dim, image_dim))\n",
    "\n",
    "    #get rid of complex parts and square the array to get sin^2 and cos^2 components\n",
    "    states_squared = np.square(np.abs(states))\n",
    "\n",
    "    #create intermediate array to do calculations\n",
    "    temp_copy = np.array(states_squared)\n",
    "\n",
    "    while(np.size(image_flattened) < Npixels):\n",
    "        if(np.size(temp_copy) == 2):\n",
    "            #first elements of temp_copy will always be cos^2(x * scale_val), append x to image_flattened\n",
    "            #add_angle = 0\n",
    "            #if(temp_copy[0] >= 0 and temp_copy[1] < 0): #if in 4th quadrant\n",
    "            #    add_angle = 3 * math.pi / 2\n",
    "            #elif(temp_copy[0] < 0 and temp_copy[1] < 0): #if in third quadrant\n",
    "            #    add_angle = math.pi / 2\n",
    "            \n",
    "            image_flattened = np.append(image_flattened, (math.acos((temp_copy[0]) ** 0.5))/ scale_val)\n",
    "\n",
    "            #will have to divide the known values from the remaining states\n",
    "            divisor_cos = temp_copy[0]\n",
    "\n",
    "            #only copy half the remaining states, avoid dividing by zero\n",
    "            if(image_flattened[-1] != 1):\n",
    "                temp_copy = states_squared[0:int(np.size(states_squared)/2)] / divisor_cos\n",
    "            else:\n",
    "                temp_copy = states_squared[int(np.size(states_squared)/2): np.size(states_squared)]\n",
    "            states_squared = np.array(temp_copy)\n",
    "\n",
    "        while(np.size(temp_copy) > 2):\n",
    "            #add neighboring array values to cancel out LSQB (sin^2 + cos^2 = 1)\n",
    "            for j in range(0, int(np.size(temp_copy)/2)):\n",
    "                temp_copy[j] += temp_copy[j+1]\n",
    "                temp_copy = np.delete(temp_copy, j+1)\n",
    "\n",
    "    for i in range(0, image_dim):\n",
    "        for j in range(0, image_dim):\n",
    "            image_nxn[i][j] = image_flattened[i * image_dim + j]\n",
    "    \n",
    "\n",
    "    return image_nxn, image_flattened"
   ]
  },
  {
   "cell_type": "code",
   "execution_count": null,
   "metadata": {},
   "outputs": [],
   "source": [
    "def hamiltonian_decode(states: np.array, scale_val: float):\n",
    "    Npixels = int(math.log2(np.size(states)))\n",
    "    image_dim = int(Npixels ** 0.5)\n",
    "    num_states = np.size(states)\n",
    "\n",
    "    image_flattened = np.zeros(num_states)\n",
    "    image_nxn = np.zeros((image_dim, image_dim))\n",
    "\n",
    "    #un_normalize = num_states ** 0.5\n",
    "    #states *= un_normalize\n",
    "    for i in range(0, num_states):\n",
    "        image_flattened[i] = np.angle([states[i]])\n",
    "        print(image_flattened[i])\n",
    "        if(image_flattened[i] < 0):\n",
    "            image_flattened[i] += 2 * math.pi\n",
    "    \n",
    "    for i in range(0, image_dim):\n",
    "        for j in range(0, image_dim):\n",
    "            image_nxn[i][j] = image_flattened[i * image_dim + j]\n",
    "    \n",
    "    return image_nxn, image_flattened\n"
   ]
  },
  {
   "cell_type": "code",
   "execution_count": 15,
   "metadata": {},
   "outputs": [
    {
     "name": "stdout",
     "output_type": "stream",
     "text": [
      "0.0\n",
      "0.0\n",
      "0.0\n",
      "0.0\n",
      "0.0\n",
      "0.0\n",
      "0.0\n",
      "0.0\n",
      "0.0\n",
      "0.0\n",
      "0.0\n",
      "0.0\n",
      "0.0\n",
      "0.0\n",
      "0.0\n",
      "0.0\n",
      "0.0\n",
      "0.0\n",
      "0.0\n",
      "0.0\n",
      "0.0\n",
      "0.0\n",
      "0.0\n",
      "0.0\n",
      "0.0\n",
      "0.0\n",
      "0.0\n",
      "0.0\n",
      "0.0\n",
      "0.0\n",
      "0.0\n",
      "0.0\n",
      "[0. 0. 0. 0. 0. 0. 0. 0. 0. 0. 0. 0. 0. 0. 0. 0. 0. 0. 0. 0. 0. 0. 0. 0.\n",
      " 0. 0. 0. 0. 0. 0. 0. 0.]\n"
     ]
    },
    {
     "name": "stderr",
     "output_type": "stream",
     "text": [
      "C:\\Users\\George Zia\\AppData\\Local\\Temp\\ipykernel_21364\\4062211737.py:12: DeprecationWarning: Conversion of an array with ndim > 0 to a scalar is deprecated, and will error in future. Ensure you extract a single element from your array before performing this operation. (Deprecated NumPy 1.25.)\n",
      "  image_flattened[i] = np.angle([states[i]])\n"
     ]
    }
   ],
   "source": [
    "#test angle_encode and decode\n",
    "temp_test = np.array([1, 0.341, 0.282, 0.142, 0.109])\n",
    "#plt.imshow(temp_test, cmap='grey',interpolation = 'nearest')\n",
    "scale_val, states = angle_encode(temp_test)\n",
    "#print(states)\n",
    "decoded_nxn, decoded_flattened = angle_decode(states, scale_val)\n",
    "print(decoded_flattened)"
   ]
  },
  {
   "cell_type": "code",
   "execution_count": 38,
   "metadata": {},
   "outputs": [
    {
     "name": "stdout",
     "output_type": "stream",
     "text": [
      "[1.         0.62235729 0.70483276]\n",
      "[1.53080850e-17+0.j 3.06161700e-17+0.j 2.27055593e-17+0.j\n",
      " 4.54111187e-17+0.j 2.50000000e-01+0.j 5.00000000e-01+0.j\n",
      " 3.70809924e-01+0.j 7.41619849e-01+0.j]\n"
     ]
    }
   ],
   "source": [
    "#decode a set of states\n",
    "decoded_nxn, decoded_flattened = angle_decode([0, 0, 0, 0, 1/4 , 2/4, math.sqrt(2)/4, 3/4], 0.5 * math.pi)\n",
    "print(decoded_flattened)\n",
    "#re-encode and check\n",
    "scale_val, states = angle_encode(decoded_flattened)\n",
    "print(states)"
   ]
  },
  {
   "cell_type": "code",
   "execution_count": 3,
   "metadata": {},
   "outputs": [
    {
     "name": "stdout",
     "output_type": "stream",
     "text": [
      "[-1.57079633]\n"
     ]
    }
   ],
   "source": [
    "print(np.angle([-1j]))"
   ]
  }
 ],
 "metadata": {
  "kernelspec": {
   "display_name": "Python 3",
   "language": "python",
   "name": "python3"
  },
  "language_info": {
   "codemirror_mode": {
    "name": "ipython",
    "version": 3
   },
   "file_extension": ".py",
   "mimetype": "text/x-python",
   "name": "python",
   "nbconvert_exporter": "python",
   "pygments_lexer": "ipython3",
   "version": "3.12.7"
  }
 },
 "nbformat": 4,
 "nbformat_minor": 2
}
